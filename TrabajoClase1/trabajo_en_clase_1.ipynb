{
 "cells": [
  {
   "cell_type": "markdown",
   "metadata": {},
   "source": [
    "# Trabajo en Case 1"
   ]
  },
  {
   "cell_type": "markdown",
   "metadata": {},
   "source": [
    "## Teoría\n",
    "#### 1. Indique cual es costo de \"Training\" y de test del algoritmo KNN.\n",
    "R/ El costo de entrenar es O(1), ya que es solo la carga de datos. El costo de entrenamiento es de O(N*D), donde N es la cantidad de datos, mientras que D son los features. En el peor caso donde N = D, este tendría un costo de O(N^2)\n",
    "\n",
    "#### 2. Explique por qué se dice que instance learning es un algoritmo por fuerza bruta o perezoso.\n",
    "R/ Este modelo solo se basa en comparación del dato a etiquetar con los N datos cargados en memoria, no existe un modelo que haga una simplificación, sólo comparaciones para aproximar el dato.\n",
    "\n",
    "#### 3. Indique cuántas comparaciones se deben realizar en la etapa de test (asumiendo el peor de los casos).\n",
    "R/ N*D pruebas, donde N es la cantidad de datos, mientras que D son los features. En el peor caso donde N = D, este tendria que hacer N^2 comparaciones\n",
    "\n",
    "#### 4. Investigue alguna modificación que se ha realizado al algoritmo original del KNN.\n",
    "R/ Una variante del algoritmo es el árbol KD, el cual consiste en mejorar la eficiencia de encontrar los k-vecinos más cercanos al indexar los ejemplos de entrenamiento en una estructura de árbol binario, donde en cada nivel del árbol el algoritmo selecciona una característica y divide los ejemplos de entrenamiento en dos subárboles según el valor medio de esa característica.\n"
   ]
  },
  {
   "cell_type": "code",
   "execution_count": 301,
   "metadata": {
    "tags": []
   },
   "outputs": [],
   "source": [
    "import numpy as np\n",
    "import sys\n",
    "import time"
   ]
  },
  {
   "cell_type": "code",
   "execution_count": 302,
   "metadata": {
    "tags": []
   },
   "outputs": [],
   "source": [
    "class KNearestNeighbors():\n",
    "    def __init__(self, X_train, y_train, n_classes, n_neighbors=5, weights='uniform'):\n",
    "\n",
    "        self.X_train = X_train\n",
    "        self.y_train = y_train\n",
    "\n",
    "        self.n_neighbors = n_neighbors\n",
    "        self.weights = weights\n",
    "\n",
    "        self.n_classes = n_classes\n",
    "\n",
    "    def euclidian_distance(self, a, b):\n",
    "        return np.sqrt(np.sum((a - b)**2, axis=1))\n",
    "\n",
    "    def kneighbors(self, X_test, return_distance=False):\n",
    "\n",
    "        dist = []\n",
    "        neigh_ind = []\n",
    "        point_dist = []\n",
    "        \n",
    "        for x_test in X_test:\n",
    "            point_dist += [ self.euclidian_distance(x_test, self.X_train) ]\n",
    "\n",
    "        for row in point_dist:\n",
    "            enum_neigh = enumerate(row)\n",
    "            sorted_neigh = sorted(enum_neigh,\n",
    "                                  key=lambda x: x[1])[:self.n_neighbors]\n",
    "\n",
    "            ind_list = [tup[0] for tup in sorted_neigh]\n",
    "            dist_list = [tup[1] for tup in sorted_neigh]\n",
    "\n",
    "            dist.append(dist_list)\n",
    "            neigh_ind.append(ind_list)\n",
    "\n",
    "        if return_distance:\n",
    "            return np.array(dist), np.array(neigh_ind)\n",
    "\n",
    "        return np.array(neigh_ind)\n",
    "\n",
    "    def predict(self, X_test):\n",
    "\n",
    "        start_time = time.time()\n",
    "        if self.weights == 'uniform':\n",
    "            neighbors = self.kneighbors(X_test)\n",
    "            y_pred = np.array([\n",
    "                np.argmax(np.bincount(self.y_train[neighbor]))\n",
    "                for neighbor in neighbors\n",
    "            ])\n",
    "            return y_pred, time.time() - start_time\n",
    "\n",
    "        if self.weights == 'distance':\n",
    "            dists, neighbors = self.kneighbors(X_test, return_distance=True)\n",
    "            y_results = []\n",
    "            y_pred = []\n",
    "            \n",
    "            for i, neighbor in enumerate(neighbors):\n",
    "                y_results += [(self.y_train[neighbor], dists[i])]\n",
    "                \n",
    "            for y_tag, dist in y_results:\n",
    "                y_class_dist = []\n",
    "                for j in range(self.n_classes):\n",
    "                    dist_array = np.where(y_tag == j, dist, 0)\n",
    "                    if np.count_nonzero(dist_array) == 0:\n",
    "                        mean_dist = sys.maxsize\n",
    "                    else:\n",
    "                        mean_dist = np.sum(dist_array) / np.count_nonzero(dist_array)\n",
    "                    y_class_dist.append(mean_dist)\n",
    "                y_pred.append(np.argmin(y_class_dist))\n",
    "\n",
    "            return np.array(y_pred), time.time() - start_time\n",
    "\n",
    "    def score(self, X_test, y_test):\n",
    "        y_pred, time = self.predict(X_test)\n",
    "        return float(sum(y_pred == y_test)) / float(len(y_test)), y_pred, y_test, time\n"
   ]
  },
  {
   "cell_type": "markdown",
   "metadata": {},
   "source": [
    "# Iris dataset (Observations/Treatments)"
   ]
  },
  {
   "cell_type": "code",
   "execution_count": 303,
   "metadata": {
    "tags": []
   },
   "outputs": [],
   "source": [
    "import sklearn.datasets as datasets\n",
    "from sklearn.model_selection import train_test_split\n",
    "from sklearn.neighbors import KNeighborsClassifier\n",
    "import pandas as pd\n",
    "from matplotlib import pyplot as plt\n",
    "dataset = datasets.load_iris(as_frame=True)\n",
    "\n",
    "X = dataset.data\n",
    "y = dataset.target\n"
   ]
  },
  {
   "cell_type": "code",
   "execution_count": 304,
   "metadata": {
    "tags": []
   },
   "outputs": [],
   "source": [
    "mu = np.mean(X, 0)\n",
    "sigma = np.std(X, 0)\n",
    "X = (X - mu ) / sigma"
   ]
  },
  {
   "cell_type": "code",
   "execution_count": 305,
   "metadata": {
    "tags": []
   },
   "outputs": [
    {
     "data": {
      "text/html": [
       "<div>\n",
       "<style scoped>\n",
       "    .dataframe tbody tr th:only-of-type {\n",
       "        vertical-align: middle;\n",
       "    }\n",
       "\n",
       "    .dataframe tbody tr th {\n",
       "        vertical-align: top;\n",
       "    }\n",
       "\n",
       "    .dataframe thead th {\n",
       "        text-align: right;\n",
       "    }\n",
       "</style>\n",
       "<table border=\"1\" class=\"dataframe\">\n",
       "  <thead>\n",
       "    <tr style=\"text-align: right;\">\n",
       "      <th></th>\n",
       "      <th>Accuracy (uniform)</th>\n",
       "      <th>Time (uniform)</th>\n",
       "      <th>Accuracy (distance)</th>\n",
       "      <th>Time (distance)</th>\n",
       "      <th>Accuracy (Sklearn)</th>\n",
       "    </tr>\n",
       "  </thead>\n",
       "  <tbody>\n",
       "    <tr>\n",
       "      <th>K=2</th>\n",
       "      <td>0.894737</td>\n",
       "      <td>0.001997</td>\n",
       "      <td>0.947368</td>\n",
       "      <td>0.003003</td>\n",
       "      <td>0.894737</td>\n",
       "    </tr>\n",
       "    <tr>\n",
       "      <th>K=3</th>\n",
       "      <td>0.947368</td>\n",
       "      <td>0.002000</td>\n",
       "      <td>0.894737</td>\n",
       "      <td>0.002999</td>\n",
       "      <td>0.947368</td>\n",
       "    </tr>\n",
       "    <tr>\n",
       "      <th>K=5</th>\n",
       "      <td>0.947368</td>\n",
       "      <td>0.002999</td>\n",
       "      <td>0.868421</td>\n",
       "      <td>0.003000</td>\n",
       "      <td>0.947368</td>\n",
       "    </tr>\n",
       "    <tr>\n",
       "      <th>K=7</th>\n",
       "      <td>0.921053</td>\n",
       "      <td>0.001997</td>\n",
       "      <td>0.921053</td>\n",
       "      <td>0.003007</td>\n",
       "      <td>0.921053</td>\n",
       "    </tr>\n",
       "    <tr>\n",
       "      <th>K=8</th>\n",
       "      <td>0.947368</td>\n",
       "      <td>0.002000</td>\n",
       "      <td>0.921053</td>\n",
       "      <td>0.003000</td>\n",
       "      <td>0.947368</td>\n",
       "    </tr>\n",
       "    <tr>\n",
       "      <th>K=10</th>\n",
       "      <td>0.947368</td>\n",
       "      <td>0.001998</td>\n",
       "      <td>0.868421</td>\n",
       "      <td>0.003001</td>\n",
       "      <td>0.947368</td>\n",
       "    </tr>\n",
       "    <tr>\n",
       "      <th>K=11</th>\n",
       "      <td>0.947368</td>\n",
       "      <td>0.002996</td>\n",
       "      <td>0.894737</td>\n",
       "      <td>0.002997</td>\n",
       "      <td>0.947368</td>\n",
       "    </tr>\n",
       "  </tbody>\n",
       "</table>\n",
       "</div>"
      ],
      "text/plain": [
       "      Accuracy (uniform)  Time (uniform)  Accuracy (distance)  \\\n",
       "K=2             0.894737        0.001997             0.947368   \n",
       "K=3             0.947368        0.002000             0.894737   \n",
       "K=5             0.947368        0.002999             0.868421   \n",
       "K=7             0.921053        0.001997             0.921053   \n",
       "K=8             0.947368        0.002000             0.921053   \n",
       "K=10            0.947368        0.001998             0.868421   \n",
       "K=11            0.947368        0.002996             0.894737   \n",
       "\n",
       "      Time (distance)  Accuracy (Sklearn)  \n",
       "K=2          0.003003            0.894737  \n",
       "K=3          0.002999            0.947368  \n",
       "K=5          0.003000            0.947368  \n",
       "K=7          0.003007            0.921053  \n",
       "K=8          0.003000            0.947368  \n",
       "K=10         0.003001            0.947368  \n",
       "K=11         0.002997            0.947368  "
      ]
     },
     "execution_count": 305,
     "metadata": {},
     "output_type": "execute_result"
    }
   ],
   "source": [
    "k_values = [2,3,5,7,8,10,11]\n",
    "\n",
    "if isinstance(X, pd.DataFrame):\n",
    "    X = X.to_numpy()\n",
    "    y = y.to_numpy()\n",
    "\n",
    "X_train, X_test, y_train, y_test = train_test_split(\\\n",
    "                X, y, test_size=0.25, random_state=45)\n",
    "\n",
    "\n",
    "accuracy_values = []\n",
    "\n",
    "for i in k_values:\n",
    "\n",
    "    uniform_classifier = KNearestNeighbors(X_train, y_train, 3, n_neighbors=i)\n",
    "    distance_classifier = KNearestNeighbors(X_train, y_train, 3, n_neighbors=i, weights='distance')\n",
    "    sklearn_classifier = KNeighborsClassifier(n_neighbors=i).fit(X_train, y_train)\n",
    "    \n",
    "    uniform_accuracy = uniform_classifier.score(X_test, y_test)[0]\n",
    "    distance_accuracy = distance_classifier.score(X_test, y_test)[0]\n",
    "    uniform_time = uniform_classifier.score(X_test, y_test)[3]\n",
    "    distance_time = distance_classifier.score(X_test, y_test)[3]\n",
    "    sklearn_accuracy = sklearn_classifier.score(X_test, y_test)\n",
    "\n",
    "    accuracy_values.append([uniform_accuracy, uniform_time, distance_accuracy, distance_time, sklearn_accuracy])\n",
    "    \n",
    "pd.DataFrame(accuracy_values,\n",
    "             [(\"K=\"+ str(k)) for k in k_values],    \n",
    "             ['Accuracy (uniform)', 'Time (uniform)', 'Accuracy (distance)', 'Time (distance)', 'Accuracy (Sklearn)'])"
   ]
  },
  {
   "cell_type": "markdown",
   "metadata": {},
   "source": [
    "### Resultados\n",
    "Los resultados de la clasificacion de las imagenes indican para los valores de K solicitados, la implementación de distancia propia tiene peores resultados que los de la biblioteca SKlearn, mientras que la uniforme arroja los mismos resultados que los de la biblioteca. Por otro lado, el tiempo que le toma a la implementacion uniforme tiende a ser menor que la implementacion de distancia por casi 1 segundo. Tomando en cuenta esto, ademas de lo mencionado anteriormente hace que para estos valores de K, la implementacion uniforme sea la mejor opcion."
   ]
  },
  {
   "cell_type": "code",
   "execution_count": 317,
   "metadata": {},
   "outputs": [],
   "source": [
    "accuracy_values = []\n",
    "\n",
    "for i in range(2, 100): \n",
    "    uniform_classifier = KNearestNeighbors(X_train, y_train, 3, n_neighbors=i)\n",
    "    distance_classifier = KNearestNeighbors(X_train, y_train, 3, n_neighbors=i, weights='distance')\n",
    "    sklearn_classifier = KNeighborsClassifier(n_neighbors=i).fit(X_train, y_train)\n",
    "    \n",
    "    uniform_accuracy = uniform_classifier.score(X_test, y_test)[0]\n",
    "    distance_accuracy = distance_classifier.score(X_test, y_test)[0]\n",
    "    sklearn_accuracy = sklearn_classifier.score(X_test, y_test)\n",
    "\n",
    "    accuracy_values.append([uniform_accuracy, distance_accuracy, sklearn_accuracy])\n",
    "\n",
    "uniform_acc = [acc[0] for acc in accuracy_values]\n",
    "distance_acc = [acc[1] for acc in accuracy_values]\n",
    "sk_acc = [acc[2] for acc in accuracy_values]"
   ]
  },
  {
   "cell_type": "code",
   "execution_count": 318,
   "metadata": {},
   "outputs": [
    {
     "data": {
      "image/png": "[encoded data removed]",
      "text/plain": [
       "<Figure size 640x480 with 1 Axes>"
      ]
     },
     "metadata": {},
     "output_type": "display_data"
    }
   ],
   "source": [
    "plt.plot(range(2, 100), uniform_acc, label=\"Accuracy (uniform)\")\n",
    "plt.plot(range(2, 100), distance_acc, label=\"Accuracy (distance)\")\n",
    "plt.plot(range(2, 100), sk_acc, label=\"Accuracy (Sklearn)\")\n",
    "\n",
    "plt.title('Accuracy vs K Values')\n",
    "plt.xlabel('K Values')\n",
    "plt.ylabel('Accuracy')\n",
    "plt.legend()\n",
    "plt.show()"
   ]
  },
  {
   "cell_type": "markdown",
   "metadata": {},
   "source": [
    "### Resultados\n",
    "Tomando valores de K del 2 al 100 y graficando K vr. precision, la implementación de distancia propia tiene mejores resultados que los de la biblioteca SKlearn para aquellos valores de K mayores de 20, mientras que en el caso de valores menores a 20, la precision varia mucho, tendiendo a ser menor o igual que la obtenida con SKlearn. Para la implementacion uniforme, los resultados de ambas implementaciones (uniforme y SKlearn) arrojan los mismos resultados. \n",
    "\n",
    "Con ayuda de la grafica anterior podemos concluir que para valores elevados de K, la implementacion de distancia tiende a tener un resultado mejor que la uniforme, manteniendose entre un 85%-95% de presicion, por lo que se recomienda utilizar una implementacion de distancia si se tienen valores elevados de vecinos (K), mientras que para valores K mas bajos se recomienda utilizar la implementacion uniforme.\n"
   ]
  },
  {
   "cell_type": "markdown",
   "metadata": {},
   "source": [
    "## 2) Clasificador de Múltiples Clases"
   ]
  },
  {
   "cell_type": "code",
   "execution_count": 48,
   "metadata": {},
   "outputs": [],
   "source": [
    "import numpy as np\n",
    "\n",
    "from sklearn.datasets import load_digits\n",
    "import matplotlib.pyplot as plt\n",
    "digits = load_digits(n_class=10, as_frame=True)"
   ]
  },
  {
   "cell_type": "code",
   "execution_count": 49,
   "metadata": {},
   "outputs": [
    {
     "data": {
      "image/png": "[encoded data removed]",
      "text/plain": [
       "<Figure size 640x480 with 12 Axes>"
      ]
     },
     "metadata": {},
     "output_type": "display_data"
    }
   ],
   "source": [
    "for i in range(1,13):\n",
    "    plt.subplot(3, 4, i)\n",
    "    plt.imshow(digits.images[i-1])"
   ]
  },
  {
   "cell_type": "code",
   "execution_count": 55,
   "metadata": {},
   "outputs": [
    {
     "data": {
      "text/html": [
       "<div>\n",
       "<style scoped>\n",
       "    .dataframe tbody tr th:only-of-type {\n",
       "        vertical-align: middle;\n",
       "    }\n",
       "\n",
       "    .dataframe tbody tr th {\n",
       "        vertical-align: top;\n",
       "    }\n",
       "\n",
       "    .dataframe thead th {\n",
       "        text-align: right;\n",
       "    }\n",
       "</style>\n",
       "<table border=\"1\" class=\"dataframe\">\n",
       "  <thead>\n",
       "    <tr style=\"text-align: right;\">\n",
       "      <th></th>\n",
       "      <th>Data</th>\n",
       "      <th>Features</th>\n",
       "    </tr>\n",
       "  </thead>\n",
       "  <tbody>\n",
       "    <tr>\n",
       "      <th>Numbers</th>\n",
       "      <td>1797</td>\n",
       "      <td>64</td>\n",
       "    </tr>\n",
       "  </tbody>\n",
       "</table>\n",
       "</div>"
      ],
      "text/plain": [
       "         Data  Features\n",
       "Numbers  1797        64"
      ]
     },
     "execution_count": 55,
     "metadata": {},
     "output_type": "execute_result"
    }
   ],
   "source": [
    "dimentions = digits.data.shape\n",
    "\n",
    "import pandas as pd\n",
    "pd.DataFrame([dimentions],\n",
    "             ['Numbers'],    \n",
    "             ['Data', 'Features'])"
   ]
  },
  {
   "cell_type": "code",
   "execution_count": 185,
   "metadata": {},
   "outputs": [],
   "source": [
    "X = digits.data\n",
    "y = digits.target"
   ]
  },
  {
   "cell_type": "code",
   "execution_count": 186,
   "metadata": {},
   "outputs": [],
   "source": [
    "from sklearn.model_selection import train_test_split\n",
    "from sklearn.neighbors import KNeighborsClassifier"
   ]
  },
  {
   "cell_type": "code",
   "execution_count": 187,
   "metadata": {},
   "outputs": [],
   "source": [
    "class KNearestNeighborsDigits():\n",
    "    def __init__(self, X_train, y_train, n_neighbors=5, weights='uniform'):\n",
    "\n",
    "        self.X_train = X_train\n",
    "        self.y_train = y_train\n",
    "\n",
    "        self.n_neighbors = n_neighbors\n",
    "        self.weights = weights\n",
    "\n",
    "        self.n_classes = 3\n",
    "\n",
    "    def euclidian_distance(self, a, b):\n",
    "        return np.sqrt(np.sum((a - b)**2, axis=1))\n",
    "\n",
    "    def kneighbors(self, X_test, return_distance=False):\n",
    "\n",
    "        dist = []\n",
    "        neigh_ind = []\n",
    "        point_dist = []\n",
    "        \n",
    "        for x_test in X_test:\n",
    "            point_dist += [ self.euclidian_distance(x_test, self.X_train) ]\n",
    "\n",
    "        for row in point_dist:\n",
    "            enum_neigh = enumerate(row)\n",
    "            sorted_neigh = sorted(enum_neigh,\n",
    "                                  key=lambda x: x[1])[:self.n_neighbors]\n",
    "\n",
    "            ind_list = [tup[0] for tup in sorted_neigh]\n",
    "            dist_list = [tup[1] for tup in sorted_neigh]\n",
    "\n",
    "            dist.append(dist_list)\n",
    "            neigh_ind.append(ind_list)\n",
    "\n",
    "        if return_distance:\n",
    "            return np.array(dist), np.array(neigh_ind)\n",
    "\n",
    "        return np.array(neigh_ind)\n",
    "    \n",
    "    def kneighbors_mod(self, X_test, return_distance=False):\n",
    "        # Custom distance implementation\n",
    "        \n",
    "        dist = []\n",
    "        neigh_ind = []\n",
    "        point_dist = []\n",
    "        \n",
    "        for x_test in X_test:\n",
    "            point_dist += [ self.euclidian_distance(x_test, self.X_train) ]\n",
    "        \n",
    "        for row in point_dist:\n",
    "            enum_neigh = enumerate(row)\n",
    "            sorted_neigh = sorted(enum_neigh,\n",
    "                                  key=lambda x: x[1])[:self.n_neighbors]\n",
    "            \n",
    "            # Different from regular distance, in our implementation \n",
    "            # we take the max and min distance values\n",
    "            closest_neigh = sorted_neigh[0][1]\n",
    "            farthest_neigh = sorted_neigh[-1][1]\n",
    "            \n",
    "            # Calculate the average distance         \n",
    "            avg = sum(neigh[1] for neigh in sorted_neigh)/len(sorted_neigh)\n",
    "                                    \n",
    "            # And eliminate all the neighbors that are further than the average\n",
    "            filtered_neigh = [neigh for neigh in sorted_neigh if neigh[1] <= avg]\n",
    "            \n",
    "            # With this, errors caused by smaller classes being out voted by\n",
    "            # classes with more population are reduced\n",
    "            \n",
    "            ind_list = [tup[0] for tup in filtered_neigh]\n",
    "            dist_list = [tup[1] for tup in filtered_neigh]\n",
    "\n",
    "            dist.append(dist_list)\n",
    "            neigh_ind.append(ind_list)\n",
    "\n",
    "        if return_distance:\n",
    "            return np.array(dist), np.array(neigh_ind)\n",
    "        \n",
    "        if len(dist) >= 4:\n",
    "            return np.array(neigh_ind, dtype=object)\n",
    "        \n",
    "        return np.array(neigh_ind)\n",
    "\n",
    "    def predict(self, X_test):\n",
    "\n",
    "        if self.weights == 'uniform':\n",
    "            neighbors = self.kneighbors(X_test)\n",
    "            y_pred = np.array([\n",
    "                np.argmax(np.bincount(self.y_train[neighbor]))\n",
    "                for neighbor in neighbors\n",
    "            ])\n",
    "            return y_pred\n",
    "\n",
    "        if self.weights == 'distance':\n",
    "            neighbors = self.kneighbors_mod(X_test)\n",
    "            \n",
    "            y_pred = np.array([\n",
    "                np.argmax(np.bincount(self.y_train[neighbor]))\n",
    "                for neighbor in neighbors\n",
    "            ])\n",
    "            return y_pred\n",
    "\n",
    "    def score(self, X_test, y_test):\n",
    "        y_pred = self.predict(X_test)\n",
    "        return float(sum(y_pred == y_test)) / float(len(y_test)), y_pred, y_test\n"
   ]
  },
  {
   "cell_type": "code",
   "execution_count": 188,
   "metadata": {},
   "outputs": [],
   "source": [
    "# Standardizing training data\n",
    "mu = np.mean(training_data, 0)\n",
    "sigma = np.std(training_data, 0)\n",
    "training_data = (training_data - mu ) / sigma\n",
    "\n",
    "# Standardizing test data\n",
    "mu = np.mean(test_data, 0)\n",
    "sigma = np.std(test_data, 0)\n",
    "test_data = (test_data - mu ) / sigma"
   ]
  },
  {
   "cell_type": "code",
   "execution_count": 189,
   "metadata": {},
   "outputs": [
    {
     "data": {
      "text/html": [
       "<div>\n",
       "<style scoped>\n",
       "    .dataframe tbody tr th:only-of-type {\n",
       "        vertical-align: middle;\n",
       "    }\n",
       "\n",
       "    .dataframe tbody tr th {\n",
       "        vertical-align: top;\n",
       "    }\n",
       "\n",
       "    .dataframe thead th {\n",
       "        text-align: right;\n",
       "    }\n",
       "</style>\n",
       "<table border=\"1\" class=\"dataframe\">\n",
       "  <thead>\n",
       "    <tr style=\"text-align: right;\">\n",
       "      <th></th>\n",
       "      <th>Accuracy (Normal)</th>\n",
       "      <th>Accuracy (Ours)</th>\n",
       "      <th>Accuracy (Sklearn)</th>\n",
       "    </tr>\n",
       "  </thead>\n",
       "  <tbody>\n",
       "    <tr>\n",
       "      <th>K=2</th>\n",
       "      <td>0.984444</td>\n",
       "      <td>0.984444</td>\n",
       "      <td>0.982222</td>\n",
       "    </tr>\n",
       "    <tr>\n",
       "      <th>K=3</th>\n",
       "      <td>0.984444</td>\n",
       "      <td>0.984444</td>\n",
       "      <td>0.982222</td>\n",
       "    </tr>\n",
       "    <tr>\n",
       "      <th>K=5</th>\n",
       "      <td>0.982222</td>\n",
       "      <td>0.982222</td>\n",
       "      <td>0.977778</td>\n",
       "    </tr>\n",
       "    <tr>\n",
       "      <th>K=7</th>\n",
       "      <td>0.982222</td>\n",
       "      <td>0.982222</td>\n",
       "      <td>0.968889</td>\n",
       "    </tr>\n",
       "    <tr>\n",
       "      <th>K=8</th>\n",
       "      <td>0.982222</td>\n",
       "      <td>0.982222</td>\n",
       "      <td>0.968889</td>\n",
       "    </tr>\n",
       "    <tr>\n",
       "      <th>K=10</th>\n",
       "      <td>0.975556</td>\n",
       "      <td>0.975556</td>\n",
       "      <td>0.964444</td>\n",
       "    </tr>\n",
       "    <tr>\n",
       "      <th>K=11</th>\n",
       "      <td>0.977778</td>\n",
       "      <td>0.977778</td>\n",
       "      <td>0.966667</td>\n",
       "    </tr>\n",
       "  </tbody>\n",
       "</table>\n",
       "</div>"
      ],
      "text/plain": [
       "      Accuracy (Normal)  Accuracy (Ours)  Accuracy (Sklearn)\n",
       "K=2            0.984444         0.984444            0.982222\n",
       "K=3            0.984444         0.984444            0.982222\n",
       "K=5            0.982222         0.982222            0.977778\n",
       "K=7            0.982222         0.982222            0.968889\n",
       "K=8            0.982222         0.982222            0.968889\n",
       "K=10           0.975556         0.975556            0.964444\n",
       "K=11           0.977778         0.977778            0.966667"
      ]
     },
     "execution_count": 189,
     "metadata": {},
     "output_type": "execute_result"
    }
   ],
   "source": [
    "k_values = [2,3,5,7,8,10,11]\n",
    "\n",
    "if isinstance(X, pd.DataFrame):\n",
    "    X = X.to_numpy()\n",
    "    y = y.to_numpy()\n",
    "\n",
    "X_train, X_test, y_train, y_test = train_test_split(\\\n",
    "                X, y, test_size=0.25, random_state=45)\n",
    "\n",
    "\n",
    "accuracy_values = []\n",
    "\n",
    "for i in k_values:\n",
    "\n",
    "    normal_classifier = KNearestNeighborsDigits(X_train, y_train, n_neighbors=i)\n",
    "    our_classifier = KNearestNeighborsDigits(X_train, y_train, n_neighbors=i, weights='distance')\n",
    "    sklearn_classifier = KNeighborsClassifier(n_neighbors=i).fit(X_train, y_train)\n",
    "    \n",
    "    normal_accuracy = our_classifier.score(X_test, y_test)[0]\n",
    "    our_accuracy = our_classifier.score(X_test, y_test)[0]\n",
    "    sklearn_accuracy = sklearn_classifier.score(X_test, y_test)\n",
    "\n",
    "    accuracy_values.append([normal_accuracy, our_accuracy, sklearn_accuracy])\n",
    "    \n",
    "pd.DataFrame(accuracy_values,\n",
    "             [(\"K=\"+ str(k)) for k in k_values],    \n",
    "             ['Accuracy (Normal)','Accuracy (Ours)', 'Accuracy (Sklearn)'])"
   ]
  },
  {
   "cell_type": "code",
   "execution_count": 190,
   "metadata": {},
   "outputs": [],
   "source": [
    "accuracy_values = []\n",
    "\n",
    "for i in range(2, 100, 4): \n",
    "    normal_classifier = KNearestNeighborsDigits(X_train, y_train, n_neighbors=i)\n",
    "    our_classifier = KNearestNeighborsDigits(X_train, y_train, n_neighbors=i, weights='distance')\n",
    "    sklearn_classifier = KNeighborsClassifier(n_neighbors=i).fit(X_train, y_train)\n",
    "    \n",
    "    normal_accuracy = our_classifier.score(X_test, y_test)[0]\n",
    "    our_accuracy = our_classifier.score(X_test, y_test)[0]\n",
    "    sklearn_accuracy = sklearn_classifier.score(X_test, y_test)\n",
    "\n",
    "    accuracy_values.append([normal_accuracy, our_accuracy, sklearn_accuracy])\n",
    "\n",
    "normal_acc = [acc[0] for acc in accuracy_values]\n",
    "our_acc = [acc[1] for acc in accuracy_values]\n",
    "sk_acc = [acc[2] for acc in accuracy_values]"
   ]
  },
  {
   "cell_type": "code",
   "execution_count": 191,
   "metadata": {},
   "outputs": [
    {
     "data": {
      "image/png": "[encoded data removed]",
      "text/plain": [
       "<Figure size 640x480 with 1 Axes>"
      ]
     },
     "metadata": {},
     "output_type": "display_data"
    }
   ],
   "source": [
    "plt.plot(range(2, 100, 4), normal_acc, label=\"Normal Acc.\")\n",
    "plt.plot(range(2, 100, 4), our_acc, label=\"Our Acc.\")\n",
    "plt.plot(range(2, 100, 4), sk_acc, label=\"SKLearn Acc.\")\n",
    "\n",
    "plt.title('KNN Accuracy vs K Values')\n",
    "plt.xlabel('K Values')\n",
    "plt.ylabel('Accuracy')\n",
    "plt.legend()\n",
    "plt.show()"
   ]
  },
  {
   "cell_type": "markdown",
   "metadata": {},
   "source": [
    "### Resultados\n",
    "Los resultados de la clasificacion de las imagenes indican que para los valores de K solicitados, la implementación de distancia propia tiene mejores resultados que los de la biblioteca sklearn. Sin embargo, al partir de la misma base que la implementación normal, los resultados de ambas implementaciones (propia y normal) arrojan los mismos resultados. \n",
    "\n",
    "Adicional a lo solicitado, se adjunta una gráfica para demostrar la caída en la precisión de las implementaciones conforme aumenta el valor de K, para valores entre 2 y 100, con saltos de 4 unidades. En esta se puede apreciar cómo el valor de la precisión se mantiene en el rando de 95%-96% para valores de K mayores a 30, mientras que la de sklearn, partiendo del mismo valor de 30, cae progresivamente hasta alcanzar val"
   ]
  },
  {
   "cell_type": "code",
   "execution_count": null,
   "metadata": {},
   "outputs": [],
   "source": []
  }
 ],
 "metadata": {
  "kernelspec": {
   "display_name": "Python 3 (ipykernel)",
   "language": "python",
   "name": "python3"
  },
  "language_info": {
   "codemirror_mode": {
    "name": "ipython",
    "version": 3
   },
   "file_extension": ".py",
   "mimetype": "text/x-python",
   "name": "python",
   "nbconvert_exporter": "python",
   "pygments_lexer": "ipython3",
   "version": "3.10.2"
  }
 },
 "nbformat": 4,
 "nbformat_minor": 4
}
